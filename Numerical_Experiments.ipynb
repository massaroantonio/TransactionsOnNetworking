{
 "cells": [
  {
   "cell_type": "code",
   "execution_count": 1,
   "metadata": {},
   "outputs": [],
   "source": [
    "import os\n",
    "import matplotlib\n",
    "import numpy as np\n",
    "import matplotlib.pyplot as plt\n",
    "import networkx as nx\n",
    "import random\n",
    "import pandas as pd\n",
    "import pickle\n",
    "from scipy.optimize import fsolve\n",
    "from multiprocessing import Pool\n",
    "from collections import ChainMap\n",
    "%matplotlib inline  \n",
    "import FatTreeLibrary as ft"
   ]
  },
  {
   "cell_type": "code",
   "execution_count": 2,
   "metadata": {},
   "outputs": [],
   "source": [
    "SP=pickle.load( open( \"../../../AllShortestPaths/allShortestPathsK16.pkl\", \"rb\" ) )"
   ]
  },
  {
   "cell_type": "code",
   "execution_count": 3,
   "metadata": {},
   "outputs": [],
   "source": [
    "ftree=ft.getFatTree(16)"
   ]
  },
  {
   "cell_type": "code",
   "execution_count": 4,
   "metadata": {},
   "outputs": [],
   "source": [
    "servers=ftree[1]\n",
    "links=ftree[0]\n",
    "demands=ft.getDemands(100,1000,servers)"
   ]
  },
  {
   "cell_type": "code",
   "execution_count": 81,
   "metadata": {},
   "outputs": [],
   "source": [
    "routing=ft.ECMPFromDict(demands,SP)"
   ]
  },
  {
   "cell_type": "code",
   "execution_count": 82,
   "metadata": {},
   "outputs": [],
   "source": [
    "routingLinks=np.array([ft.nodesToLinksIndexes(r,links) for r in routing])"
   ]
  },
  {
   "cell_type": "code",
   "execution_count": 83,
   "metadata": {},
   "outputs": [],
   "source": [
    "C=np.array([10 for l in links])\n",
    "CUsed=np.array([0. for l in links])"
   ]
  },
  {
   "cell_type": "code",
   "execution_count": 84,
   "metadata": {},
   "outputs": [],
   "source": [
    "rates=ft.max_min_allocation(C,routingLinks)"
   ]
  },
  {
   "cell_type": "code",
   "execution_count": 85,
   "metadata": {
    "scrolled": false
   },
   "outputs": [],
   "source": [
    "time_to_completion=demands[:,2]/rates"
   ]
  },
  {
   "cell_type": "code",
   "execution_count": 86,
   "metadata": {
    "scrolled": false
   },
   "outputs": [],
   "source": [
    "\n",
    "for i in range(len(routingLinks)):\n",
    "    path=routingLinks[i]\n",
    "    rate=rates[i]\n",
    "    CUsed[path]+=rate"
   ]
  },
  {
   "cell_type": "code",
   "execution_count": 87,
   "metadata": {},
   "outputs": [
    {
     "data": {
      "image/png": "[encoded data removed]",
      "text/plain": [
       "<matplotlib.figure.Figure at 0x7fad943d6390>"
      ]
     },
     "metadata": {},
     "output_type": "display_data"
    },
    {
     "data": {
      "image/png": "[encoded data removed]",
      "text/plain": [
       "<matplotlib.figure.Figure at 0x7fad8a73b4a8>"
      ]
     },
     "metadata": {},
     "output_type": "display_data"
    }
   ],
   "source": [
    "plt.hist(CUsed)\n",
    "plt.show()\n",
    "plt.hist(time_to_completion)\n",
    "plt.show()"
   ]
  },
  {
   "cell_type": "code",
   "execution_count": 73,
   "metadata": {},
   "outputs": [],
   "source": [
    "demands=ft.getDemands(10,100,servers)\n",
    "routing=ft.ECMPFromDict(demands,SP)\n",
    "routingLinks=[ft.nodesToLinksIndexes(r,links) for r in routing]"
   ]
  },
  {
   "cell_type": "code",
   "execution_count": 74,
   "metadata": {
    "scrolled": true
   },
   "outputs": [],
   "source": [
    "C=np.array([10. for x in links])"
   ]
  },
  {
   "cell_type": "code",
   "execution_count": 47,
   "metadata": {},
   "outputs": [],
   "source": [
    "rates=ft.max_min_allocation(C,routingLinks)"
   ]
  },
  {
   "cell_type": "code",
   "execution_count": 48,
   "metadata": {},
   "outputs": [
    {
     "data": {
      "text/plain": [
       "array([10., 10., 10., 10., 10., 10., 10., 10., 10., 10.])"
      ]
     },
     "execution_count": 48,
     "metadata": {},
     "output_type": "execute_result"
    }
   ],
   "source": [
    "rates"
   ]
  },
  {
   "cell_type": "code",
   "execution_count": 145,
   "metadata": {},
   "outputs": [
    {
     "data": {
      "text/plain": [
       "array([0, 1, 2, 3, 4, 5, 6, 7, 8, 9])"
      ]
     },
     "execution_count": 145,
     "metadata": {},
     "output_type": "execute_result"
    }
   ],
   "source": [
    "ind=np.array([i for i in range(len(demands))])\n",
    "activeIndexes=ind[ind!=-1]\n",
    "activeIndexes"
   ]
  },
  {
   "cell_type": "code",
   "execution_count": 146,
   "metadata": {},
   "outputs": [
    {
     "data": {
      "text/plain": [
       "array([[474, 465,   2],\n",
       "       [846, 421,   6],\n",
       "       [753, 895,   3],\n",
       "       [772, 287,   2],\n",
       "       [359, 310,  23],\n",
       "       [518, 719,  30],\n",
       "       [ 24, 495,   6],\n",
       "       [835, 980,   4],\n",
       "       [414, 256,   4],\n",
       "       [434, 273,   7]])"
      ]
     },
     "execution_count": 146,
     "metadata": {},
     "output_type": "execute_result"
    }
   ],
   "source": [
    "demands"
   ]
  },
  {
   "cell_type": "code",
   "execution_count": 49,
   "metadata": {},
   "outputs": [
    {
     "name": "stdout",
     "output_type": "stream",
     "text": [
      "[0.5 0.2 6.6 0.1 1.7 0.  0.2 4.3 2.9 4.3]\n"
     ]
    }
   ],
   "source": [
    "x=demands[:,2]/rates\n",
    "print (x)"
   ]
  },
  {
   "cell_type": "code",
   "execution_count": 87,
   "metadata": {},
   "outputs": [],
   "source": [
    "def completionTimes(demands,routingLinks,C):\n",
    "    demands=np.array(demands)\n",
    "    routingLinks=list(routingLinks)\n",
    "    times=np.zeros(len(demands))\n",
    "    ind=np.arange(len(demands))\n",
    "    activeIndexes=ind[ind!=-1]\n",
    "    time_to_completion=np.zeros(len(demands))\n",
    "    rates=ft.max_min_allocation(C,routingLinks)\n",
    "    #print (demands[:,-1])\n",
    "    while np.sum(ind)>-len(ind):\n",
    "        time_to_completion[activeIndexes]=demands[activeIndexes,2]/rates[activeIndexes]\n",
    "        minT=min(time_to_completion[activeIndexes])\n",
    "        times[activeIndexes]+=minT\n",
    "        demands[activeIndexes,2]=demands[activeIndexes,2]-rates[activeIndexes]*minT\n",
    "        ind[time_to_completion==minT]=-1\n",
    "        activeIndexes=ind[ind!=-1]\n",
    "        routingLinks_=[routingLinks[i] for i in activeIndexes]#max_min_allocation wants 'paths' as list\n",
    "        rates_=ft.max_min_allocation(C,routingLinks_)\n",
    "        rates[activeIndexes]=rates_\n",
    "        #print (demands[:,-1])\n",
    "    return times"
   ]
  },
  {
   "cell_type": "code",
   "execution_count": 88,
   "metadata": {},
   "outputs": [],
   "source": [
    "demands=ft.getDemands(1000,100,servers)\n",
    "routing=ft.ECMPFromDict(demands,SP)\n",
    "routingLinks=[ft.nodesToLinksIndexes(r,links) for r in routing]"
   ]
  },
  {
   "cell_type": "code",
   "execution_count": 89,
   "metadata": {},
   "outputs": [],
   "source": [
    "t=completionTimes(demands,routingLinks,C)"
   ]
  },
  {
   "cell_type": "code",
   "execution_count": 90,
   "metadata": {},
   "outputs": [
    {
     "data": {
      "text/plain": [
       "array([ 2.07515152,  9.03765152, 12.42098485,  0.26      ,  3.72931818,\n",
       "        4.67931818,  9.93765152,  3.72931818, 11.07098485,  6.56265152,\n",
       "        6.36265152,  7.46265152,  1.49333333,  3.82931818,  6.36265152,\n",
       "        5.66265152, 11.27098485,  8.33765152,  3.22931818,  1.49333333,\n",
       "        3.72931818, 12.82098485,  8.83765152, 11.37098485,  7.56265152,\n",
       "        1.12666667,  6.86265152,  0.72666667,  8.48765152,  0.1       ,\n",
       "        7.78765152, 10.77098485,  9.03765152, 11.92098485, 10.47098485,\n",
       "        7.46265152,  8.93765152, 11.37098485,  5.86265152, 10.33765152,\n",
       "       10.77098485, 12.42098485,  7.66265152,  5.02931818,  6.16265152,\n",
       "        2.76181818, 11.67098485, 12.42098485,  8.48765152,  9.53765152,\n",
       "        7.46265152,  4.47931818,  4.67931818,  8.48765152, 10.77098485,\n",
       "       11.27098485,  8.83765152,  4.02931818,  1.49333333, 13.32098485,\n",
       "       10.23765152,  2.34181818,  7.66265152,  1.49333333,  8.68765152,\n",
       "        8.13765152,  9.43765152,  4.82931818, 12.82098485,  2.07515152,\n",
       "        2.50181818, 10.33765152,  7.36265152,  0.26      ,  2.66181818,\n",
       "        4.02931818,  1.12666667,  7.78765152, 12.42098485, 10.13765152,\n",
       "        7.46265152,  0.26      ,  9.93765152, 11.82098485, 10.67098485,\n",
       "        9.23765152,  2.94931818,  2.34181818,  9.43765152, 12.82098485,\n",
       "        1.12666667,  9.23765152,  9.43765152,  0.92666667,  3.22931818,\n",
       "       12.32098485,  6.86265152,  9.53765152, 13.12098485, 10.67098485,\n",
       "       12.72098485,  7.56265152,  4.17931818,  9.63765152, 12.72098485,\n",
       "        0.92666667, 12.22098485,  0.1       ,  4.17931818,  7.56265152,\n",
       "        6.86265152,  9.93765152,  8.23765152,  8.23765152,  5.02931818,\n",
       "        8.93765152,  1.49333333,  7.11265152,  3.82931818,  7.11265152,\n",
       "       13.22098485, 10.67098485, 10.13765152, 13.22098485,  4.82931818,\n",
       "       10.47098485, 10.67098485,  4.02931818,  3.82931818,  7.26265152,\n",
       "        6.16265152,  9.03765152,  7.66265152,  7.36265152, 11.37098485,\n",
       "       10.97098485, 10.97098485, 11.47098485,  7.66265152,  6.56265152,\n",
       "        5.02931818,  7.66265152,  2.94931818,  9.33765152,  6.76265152,\n",
       "        9.63765152, 12.42098485,  0.92666667,  8.13765152,  5.51265152,\n",
       "        5.51265152, 11.27098485,  5.66265152,  3.72931818,  9.33765152,\n",
       "        4.02931818,  1.67515152,  6.76265152,  3.57931818,  6.96265152,\n",
       "        0.26      ,  6.01265152,  5.51265152,  9.93765152,  7.26265152,\n",
       "        4.27931818,  6.86265152, 12.72098485, 10.23765152,  7.11265152,\n",
       "       11.27098485,  5.22931818,  5.37931818,  3.57931818,  1.12666667,\n",
       "       13.12098485,  5.02931818, 11.17098485,  1.32666667, 12.52098485,\n",
       "       10.47098485,  0.92666667, 12.02098485,  8.23765152,  3.22931818,\n",
       "        8.83765152, 12.52098485,  0.72666667, 13.12098485,  2.94931818,\n",
       "        3.22931818,  3.42931818,  7.11265152,  4.47931818, 12.42098485,\n",
       "        4.67931818,  5.51265152,  8.58765152,  2.76181818,  9.53765152,\n",
       "        7.36265152,  7.11265152,  2.76181818,  7.78765152,  2.94931818,\n",
       "       11.82098485,  9.03765152, 12.92098485,  7.46265152, 12.02098485,\n",
       "        3.72931818,  8.13765152,  9.93765152,  3.22931818,  6.76265152,\n",
       "       11.92098485,  2.66181818,  4.47931818, 12.32098485, 10.87098485,\n",
       "        7.36265152,  9.03765152, 10.87098485,  8.83765152,  2.94931818,\n",
       "        2.20848485,  2.07515152,  5.51265152, 11.47098485,  3.06931818,\n",
       "        5.51265152,  8.13765152,  2.66181818,  6.16265152,  8.48765152,\n",
       "       10.57098485,  3.82931818,  5.37931818,  4.82931818,  8.13765152,\n",
       "        3.82931818,  0.26      , 10.33765152,  9.83765152,  8.68765152,\n",
       "        6.01265152,  9.53765152,  2.50181818,  9.83765152, 13.22098485,\n",
       "        1.87515152,  2.07515152, 12.62098485,  6.76265152,  5.51265152,\n",
       "       13.42098485,  4.27931818, 11.82098485, 13.22098485,  8.23765152,\n",
       "        9.53765152, 10.13765152, 11.17098485,  5.66265152, 10.47098485,\n",
       "        8.33765152, 13.12098485,  6.96265152, 11.37098485, 11.92098485,\n",
       "       12.72098485,  9.83765152,  3.82931818,  9.43765152,  8.13765152,\n",
       "       11.92098485,  3.06931818,  6.86265152,  4.27931818, 12.52098485,\n",
       "        4.27931818,  5.22931818,  3.82931818,  5.22931818, 13.22098485,\n",
       "        2.20848485,  9.93765152,  8.48765152,  0.72666667,  7.66265152,\n",
       "       10.47098485,  1.67515152,  7.26265152,  2.07515152,  3.82931818,\n",
       "        7.36265152, 11.67098485,  7.11265152,  8.23765152,  4.17931818,\n",
       "        2.34181818,  7.36265152,  7.46265152,  1.12666667, 12.42098485,\n",
       "        2.20848485,  9.33765152,  3.06931818, 12.92098485,  2.20848485,\n",
       "        2.20848485,  8.58765152,  7.98765152, 11.37098485,  8.93765152,\n",
       "        2.76181818,  8.13765152,  1.87515152,  1.49333333,  9.33765152,\n",
       "        5.86265152, 11.47098485,  9.33765152, 11.37098485, 10.57098485,\n",
       "        4.82931818, 10.13765152,  1.32666667, 12.92098485,  1.87515152,\n",
       "        8.23765152,  2.76181818,  9.83765152,  7.11265152,  5.66265152,\n",
       "        2.07515152,  3.06931818,  3.06931818,  8.33765152,  2.34181818,\n",
       "       11.17098485,  4.47931818,  2.66181818,  5.66265152,  5.02931818,\n",
       "        9.83765152,  9.43765152,  4.47931818,  1.67515152, 12.52098485,\n",
       "        2.76181818,  9.43765152,  2.50181818,  5.37931818,  7.46265152,\n",
       "       10.67098485, 10.57098485,  3.22931818,  8.93765152,  7.78765152,\n",
       "        6.56265152, 12.22098485, 12.62098485, 12.52098485,  0.1       ,\n",
       "       10.13765152, 11.17098485, 12.02098485, 10.33765152, 12.22098485,\n",
       "        8.58765152,  4.67931818, 11.82098485,  6.86265152,  8.68765152,\n",
       "       10.77098485,  4.17931818,  4.27931818,  4.82931818, 10.33765152,\n",
       "        2.76181818,  6.76265152, 12.42098485,  6.96265152,  9.63765152,\n",
       "        5.51265152,  8.68765152,  2.76181818, 11.67098485,  1.67515152,\n",
       "        5.37931818, 10.47098485, 10.23765152,  6.16265152,  1.87515152,\n",
       "        0.52666667,  9.23765152,  1.87515152, 13.02098485, 13.12098485,\n",
       "        6.86265152,  6.16265152,  7.56265152,  5.22931818,  9.93765152,\n",
       "       11.47098485,  9.53765152,  7.46265152,  2.50181818,  0.72666667,\n",
       "       12.12098485,  4.02931818,  4.67931818,  5.51265152,  7.98765152,\n",
       "        1.67515152,  8.68765152, 10.13765152,  1.12666667,  1.49333333,\n",
       "        7.66265152,  2.94931818,  8.48765152,  3.72931818,  8.13765152,\n",
       "       10.57098485,  6.76265152, 10.57098485, 12.72098485, 12.22098485,\n",
       "        9.83765152,  4.17931818,  8.48765152,  3.22931818, 10.67098485,\n",
       "        0.1       , 13.42098485,  4.82931818, 10.97098485,  4.17931818,\n",
       "        5.86265152,  1.12666667, 12.62098485,  5.66265152,  6.16265152,\n",
       "        5.37931818,  0.1       ,  6.76265152,  8.58765152,  6.16265152,\n",
       "       12.22098485,  9.93765152,  4.02931818,  3.22931818,  7.36265152,\n",
       "        3.72931818,  0.72666667,  6.16265152, 10.77098485,  3.72931818,\n",
       "        8.33765152, 10.67098485,  6.56265152, 11.47098485, 11.37098485,\n",
       "        7.98765152,  5.51265152,  4.17931818,  6.86265152,  7.36265152,\n",
       "       11.92098485,  6.01265152,  3.72931818,  8.83765152,  9.53765152,\n",
       "        5.86265152,  8.83765152, 12.52098485, 11.47098485,  9.33765152,\n",
       "        6.16265152, 13.12098485,  7.56265152, 10.23765152, 11.82098485,\n",
       "        8.68765152, 10.97098485,  7.46265152,  5.86265152, 10.13765152,\n",
       "       10.87098485,  4.47931818,  9.33765152,  3.22931818, 13.02098485,\n",
       "        7.56265152,  2.50181818,  8.48765152,  1.67515152,  6.86265152,\n",
       "        9.93765152,  5.37931818, 12.02098485,  9.53765152,  3.57931818,\n",
       "        1.12666667,  9.43765152,  1.87515152,  8.33765152,  1.67515152,\n",
       "       13.12098485,  1.87515152,  6.96265152, 13.12098485, 13.02098485,\n",
       "        7.11265152,  5.86265152,  8.93765152,  4.17931818,  1.67515152,\n",
       "        0.52666667,  6.96265152, 11.07098485,  2.66181818,  2.76181818,\n",
       "       11.37098485,  9.83765152,  3.57931818,  6.01265152,  0.92666667,\n",
       "        5.37931818, 10.47098485, 11.17098485, 11.17098485,  9.63765152,\n",
       "        4.27931818,  7.26265152, 13.12098485,  9.53765152,  7.46265152,\n",
       "       10.23765152,  8.58765152,  3.72931818, 10.87098485,  2.07515152,\n",
       "        2.94931818,  3.42931818, 10.97098485,  8.23765152, 12.72098485,\n",
       "       10.33765152,  3.06931818, 12.22098485,  6.76265152, 10.03765152,\n",
       "        3.57931818,  6.01265152,  8.68765152,  9.43765152,  3.06931818,\n",
       "       12.72098485, 10.57098485, 12.82098485,  4.47931818, 10.67098485,\n",
       "        6.76265152,  7.66265152,  6.96265152,  9.03765152, 12.82098485,\n",
       "       13.42098485,  7.78765152,  4.47931818, 11.67098485, 11.67098485,\n",
       "       12.52098485, 11.67098485,  4.67931818,  8.33765152,  3.42931818,\n",
       "        1.87515152,  4.47931818,  0.1       ,  5.02931818, 12.92098485,\n",
       "       11.47098485,  7.11265152,  6.56265152,  6.01265152,  7.26265152,\n",
       "        2.07515152,  7.36265152, 11.37098485,  6.86265152,  9.83765152,\n",
       "        7.36265152, 12.92098485,  9.23765152, 10.33765152,  0.26      ,\n",
       "       12.52098485, 12.82098485, 10.33765152,  9.23765152,  6.36265152,\n",
       "        2.07515152, 12.22098485,  8.48765152,  8.68765152, 12.62098485,\n",
       "       10.33765152,  9.03765152,  3.57931818, 11.92098485,  6.01265152,\n",
       "        0.1       , 12.62098485, 12.52098485,  3.22931818,  9.23765152,\n",
       "        9.53765152,  0.92666667,  2.50181818, 13.22098485,  8.13765152,\n",
       "        7.11265152,  2.94931818, 11.67098485,  7.66265152,  9.43765152,\n",
       "        9.93765152, 11.27098485,  3.72931818, 10.47098485,  3.06931818,\n",
       "        7.56265152,  9.43765152,  9.93765152,  6.16265152,  4.47931818,\n",
       "        2.20848485, 10.33765152,  2.50181818, 12.92098485, 11.07098485,\n",
       "        9.93765152,  4.67931818,  0.52666667,  7.98765152, 10.77098485,\n",
       "        6.86265152,  6.36265152, 11.82098485,  4.17931818,  7.36265152,\n",
       "       13.22098485,  1.12666667,  8.83765152,  4.67931818,  4.67931818,\n",
       "        2.50181818, 10.13765152,  2.94931818,  1.87515152, 12.62098485,\n",
       "        2.94931818,  3.42931818, 10.33765152,  1.67515152,  2.94931818,\n",
       "       13.32098485,  4.02931818, 12.02098485,  2.94931818,  1.87515152,\n",
       "        6.16265152,  2.07515152,  8.23765152,  3.42931818,  2.07515152,\n",
       "        6.56265152, 13.02098485,  5.22931818,  7.98765152,  3.22931818,\n",
       "        7.11265152,  0.92666667,  7.66265152,  7.36265152,  4.02931818,\n",
       "        1.32666667,  0.26      ,  9.03765152,  2.50181818, 12.62098485,\n",
       "        2.76181818,  8.33765152,  7.56265152,  2.34181818,  7.46265152,\n",
       "       11.27098485,  9.43765152,  9.33765152, 10.23765152,  3.42931818,\n",
       "       12.72098485,  7.26265152, 10.47098485,  2.76181818, 13.22098485,\n",
       "       10.13765152,  3.22931818, 13.02098485,  5.86265152,  6.76265152,\n",
       "       10.33765152,  4.82931818,  5.02931818,  9.53765152,  4.27931818,\n",
       "       12.92098485,  7.36265152,  3.42931818, 12.92098485,  8.93765152,\n",
       "        5.02931818,  9.03765152,  8.23765152, 10.57098485, 10.23765152,\n",
       "       10.03765152,  2.07515152,  5.86265152, 12.82098485,  6.76265152,\n",
       "       12.82098485,  7.36265152, 12.32098485,  3.82931818, 10.57098485,\n",
       "        2.50181818, 11.07098485, 11.92098485,  7.46265152,  3.42931818,\n",
       "        3.57931818, 11.57098485,  0.72666667,  0.1       ,  9.63765152,\n",
       "       10.57098485,  2.94931818,  9.23765152,  6.36265152,  2.34181818,\n",
       "        3.22931818,  2.66181818,  9.53765152,  9.93765152, 11.37098485,\n",
       "        6.56265152,  2.34181818,  9.43765152, 11.57098485,  0.52666667,\n",
       "       10.67098485,  7.78765152,  6.01265152,  1.32666667,  3.06931818,\n",
       "        7.46265152,  8.33765152,  0.92666667, 13.22098485,  0.26      ,\n",
       "       10.23765152,  1.32666667,  0.92666667,  0.92666667,  2.66181818,\n",
       "        2.34181818, 10.47098485,  9.03765152, 10.33765152,  3.82931818,\n",
       "       13.42098485,  3.72931818,  9.53765152,  2.76181818,  8.13765152,\n",
       "        6.56265152,  8.93765152,  0.1       ,  1.87515152,  0.26      ,\n",
       "        2.94931818,  4.02931818,  3.82931818,  9.53765152, 10.97098485,\n",
       "       12.32098485,  9.83765152, 11.82098485,  4.47931818,  8.48765152,\n",
       "        0.72666667, 11.27098485, 12.02098485,  7.26265152,  9.63765152,\n",
       "        1.12666667,  8.68765152,  6.86265152,  5.66265152, 12.02098485,\n",
       "        1.12666667,  7.36265152,  9.83765152,  2.66181818,  9.03765152,\n",
       "        2.34181818, 12.62098485,  2.94931818,  7.66265152,  6.01265152,\n",
       "        5.37931818,  9.23765152,  9.33765152,  1.87515152,  5.22931818,\n",
       "        0.52666667, 10.33765152, 11.07098485,  6.56265152,  7.46265152,\n",
       "       10.87098485, 12.52098485,  9.23765152, 11.67098485, 12.82098485,\n",
       "        8.83765152,  6.36265152,  5.66265152,  5.86265152,  3.06931818,\n",
       "        3.22931818,  8.13765152, 11.67098485, 10.47098485,  9.53765152,\n",
       "       10.97098485,  0.26      ,  5.02931818,  9.03765152, 13.42098485,\n",
       "        3.82931818,  8.23765152,  7.78765152,  8.23765152, 12.92098485,\n",
       "        1.49333333,  4.82931818, 11.27098485, 11.82098485,  7.98765152,\n",
       "        4.47931818,  2.07515152, 11.07098485, 11.27098485,  7.46265152,\n",
       "        8.93765152,  4.17931818,  7.46265152, 10.87098485,  4.27931818,\n",
       "        4.47931818,  6.86265152, 11.92098485,  3.72931818, 10.87098485,\n",
       "        9.63765152,  4.02931818,  7.78765152, 12.52098485,  3.22931818,\n",
       "        8.83765152, 13.12098485,  4.27931818, 10.47098485,  5.86265152,\n",
       "        2.76181818,  8.83765152,  7.98765152, 13.42098485, 11.57098485,\n",
       "        0.92666667,  4.27931818,  7.11265152,  5.51265152,  8.93765152,\n",
       "        6.16265152,  2.34181818,  9.03765152,  7.11265152,  1.32666667,\n",
       "        0.1       ,  8.68765152, 10.13765152,  0.1       , 13.22098485,\n",
       "       12.02098485,  0.26      ,  7.46265152,  0.1       ,  6.96265152,\n",
       "        4.27931818,  2.94931818,  6.16265152,  2.94931818, 10.23765152,\n",
       "       12.02098485,  0.1       ,  4.17931818,  6.36265152, 11.37098485,\n",
       "        8.23765152,  7.26265152,  8.23765152,  3.22931818, 12.62098485,\n",
       "        0.72666667, 11.57098485,  2.94931818,  9.83765152, 12.02098485,\n",
       "        8.58765152,  8.13765152,  3.42931818, 12.22098485,  9.83765152,\n",
       "        9.53765152,  9.23765152,  9.83765152, 10.87098485, 10.87098485,\n",
       "        6.56265152,  1.32666667, 11.07098485,  7.66265152, 10.57098485,\n",
       "        5.22931818,  8.33765152, 10.97098485,  8.48765152,  2.07515152,\n",
       "        2.07515152,  0.26      , 10.67098485,  2.20848485,  1.87515152,\n",
       "        4.17931818,  2.34181818,  9.03765152,  5.86265152,  7.36265152,\n",
       "        7.11265152,  1.49333333,  7.66265152, 10.67098485,  9.93765152,\n",
       "        5.37931818, 10.77098485,  7.98765152, 11.37098485, 11.82098485,\n",
       "       10.87098485,  8.33765152,  4.47931818,  0.52666667,  7.11265152,\n",
       "        2.34181818, 12.62098485,  4.27931818,  4.47931818,  0.92666667,\n",
       "        8.13765152,  9.63765152,  7.11265152,  8.13765152,  2.34181818,\n",
       "        7.26265152,  6.76265152,  6.86265152,  3.72931818,  7.56265152,\n",
       "       12.72098485,  7.78765152, 10.87098485,  2.76181818, 12.52098485])"
      ]
     },
     "execution_count": 90,
     "metadata": {},
     "output_type": "execute_result"
    }
   ],
   "source": [
    "t"
   ]
  },
  {
   "cell_type": "code",
   "execution_count": 115,
   "metadata": {},
   "outputs": [
    {
     "data": {
      "text/plain": [
       "array([ True,  True,  True,  True,  True,  True,  True,  True,  True,\n",
       "       False,  True,  True,  True,  True,  True,  True,  True,  True,\n",
       "        True,  True,  True,  True,  True,  True,  True,  True,  True,\n",
       "        True,  True,  True,  True,  True,  True,  True,  True,  True,\n",
       "        True,  True,  True,  True,  True,  True,  True,  True,  True,\n",
       "        True,  True,  True,  True,  True,  True,  True,  True,  True,\n",
       "        True,  True,  True,  True,  True,  True,  True,  True,  True,\n",
       "        True,  True,  True,  True,  True,  True,  True,  True,  True,\n",
       "        True,  True,  True,  True,  True,  True,  True,  True,  True,\n",
       "        True,  True,  True,  True,  True,  True,  True,  True,  True,\n",
       "        True,  True,  True,  True,  True,  True,  True,  True,  True,\n",
       "        True])"
      ]
     },
     "execution_count": 115,
     "metadata": {},
     "output_type": "execute_result"
    }
   ],
   "source": [
    "(1-d)==1"
   ]
  },
  {
   "cell_type": "code",
   "execution_count": 114,
   "metadata": {},
   "outputs": [
    {
     "data": {
      "text/plain": [
       "array([False, False, False, False, False, False, False, False, False,\n",
       "        True, False, False, False, False, False, False, False, False,\n",
       "       False, False, False, False, False, False, False, False, False,\n",
       "       False, False, False, False, False, False, False, False, False,\n",
       "       False, False, False, False, False, False, False, False, False,\n",
       "       False, False, False, False, False, False, False, False, False,\n",
       "       False, False, False, False, False, False, False, False, False,\n",
       "       False, False, False, False, False, False, False, False, False,\n",
       "       False, False, False, False, False, False, False, False, False,\n",
       "       False, False, False, False, False, False, False, False, False,\n",
       "       False, False, False, False, False, False, False, False, False,\n",
       "       False])"
      ]
     },
     "execution_count": 114,
     "metadata": {},
     "output_type": "execute_result"
    }
   ],
   "source": [
    "d"
   ]
  },
  {
   "cell_type": "code",
   "execution_count": null,
   "metadata": {},
   "outputs": [],
   "source": []
  }
 ],
 "metadata": {
  "kernelspec": {
   "display_name": "Python 3",
   "language": "python",
   "name": "python3"
  },
  "language_info": {
   "codemirror_mode": {
    "name": "ipython",
    "version": 3
   },
   "file_extension": ".py",
   "mimetype": "text/x-python",
   "name": "python",
   "nbconvert_exporter": "python",
   "pygments_lexer": "ipython3",
   "version": "3.6.4"
  }
 },
 "nbformat": 4,
 "nbformat_minor": 2
}
