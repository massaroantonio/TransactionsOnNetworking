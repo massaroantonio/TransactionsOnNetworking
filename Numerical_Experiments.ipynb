{
 "cells": [
  {
   "cell_type": "code",
   "execution_count": 10,
   "metadata": {},
   "outputs": [],
   "source": [
    "import os\n",
    "import matplotlib\n",
    "import numpy as np\n",
    "import matplotlib.pyplot as plt\n",
    "import networkx as nx\n",
    "import random\n",
    "import pandas as pd\n",
    "import pickle\n",
    "from scipy.optimize import fsolve\n",
    "from multiprocessing import Pool\n",
    "from collections import ChainMap\n",
    "%matplotlib inline  \n",
    "import FatTreeLibrary as ft"
   ]
  },
  {
   "cell_type": "code",
   "execution_count": 2,
   "metadata": {},
   "outputs": [],
   "source": [
    "SP=pickle.load( open( \"../../../AllShortestPaths/allShortestPathsK16.pkl\", \"rb\" ) )"
   ]
  },
  {
   "cell_type": "code",
   "execution_count": 3,
   "metadata": {},
   "outputs": [],
   "source": [
    "ftree=ft.getFatTree(16)"
   ]
  },
  {
   "cell_type": "code",
   "execution_count": 4,
   "metadata": {},
   "outputs": [],
   "source": [
    "servers=ftree[1]\n",
    "links=ftree[0]\n"
   ]
  },
  {
   "cell_type": "code",
   "execution_count": 5,
   "metadata": {},
   "outputs": [],
   "source": [
    "routing=ft.ECMPFromDict(demands,SP)"
   ]
  },
  {
   "cell_type": "code",
   "execution_count": 6,
   "metadata": {},
   "outputs": [],
   "source": [
    "routingLinks=np.array([ft.nodesToLinksIndexes(r,links) for r in routing])"
   ]
  },
  {
   "cell_type": "code",
   "execution_count": 11,
   "metadata": {},
   "outputs": [],
   "source": [
    "C=np.array([10 for l in links])\n",
    "CUsed=np.array([0. for l in links])"
   ]
  },
  {
   "cell_type": "code",
   "execution_count": 8,
   "metadata": {},
   "outputs": [],
   "source": [
    "rates=ft.max_min_allocation(C,routingLinks)"
   ]
  },
  {
   "cell_type": "code",
   "execution_count": 9,
   "metadata": {
    "scrolled": false
   },
   "outputs": [],
   "source": [
    "time_to_completion=demands[:,2]/rates"
   ]
  },
  {
   "cell_type": "code",
   "execution_count": 10,
   "metadata": {
    "scrolled": false
   },
   "outputs": [],
   "source": [
    "\n",
    "for i in range(len(routingLinks)):\n",
    "    path=routingLinks[i]\n",
    "    rate=rates[i]\n",
    "    CUsed[path]+=rate"
   ]
  },
  {
   "cell_type": "code",
   "execution_count": 11,
   "metadata": {},
   "outputs": [
    {
     "data": {
      "image/png": "[encoded data removed]",
      "text/plain": [
       "<matplotlib.figure.Figure at 0x7f03c1cc9b38>"
      ]
     },
     "metadata": {},
     "output_type": "display_data"
    },
    {
     "data": {
      "image/png": "[encoded data removed]",
      "text/plain": [
       "<matplotlib.figure.Figure at 0x7f03b5a6e5f8>"
      ]
     },
     "metadata": {},
     "output_type": "display_data"
    }
   ],
   "source": [
    "plt.hist(CUsed)\n",
    "plt.show()\n",
    "plt.hist(time_to_completion)\n",
    "plt.show()"
   ]
  },
  {
   "cell_type": "code",
   "execution_count": 73,
   "metadata": {},
   "outputs": [],
   "source": [
    "demands=ft.getDemands(10,100,servers)\n",
    "routing=ft.ECMPFromDict(demands,SP)\n",
    "routingLinks=[ft.nodesToLinksIndexes(r,links) for r in routing]"
   ]
  },
  {
   "cell_type": "code",
   "execution_count": 114,
   "metadata": {
    "scrolled": true
   },
   "outputs": [],
   "source": [
    "C=np.array([10. for x in links])"
   ]
  },
  {
   "cell_type": "code",
   "execution_count": 47,
   "metadata": {},
   "outputs": [],
   "source": [
    "rates=ft.max_min_allocation(C,routingLinks)"
   ]
  },
  {
   "cell_type": "code",
   "execution_count": 48,
   "metadata": {},
   "outputs": [
    {
     "data": {
      "text/plain": [
       "array([10., 10., 10., 10., 10., 10., 10., 10., 10., 10.])"
      ]
     },
     "execution_count": 48,
     "metadata": {},
     "output_type": "execute_result"
    }
   ],
   "source": [
    "rates"
   ]
  },
  {
   "cell_type": "code",
   "execution_count": 145,
   "metadata": {},
   "outputs": [
    {
     "data": {
      "text/plain": [
       "array([0, 1, 2, 3, 4, 5, 6, 7, 8, 9])"
      ]
     },
     "execution_count": 145,
     "metadata": {},
     "output_type": "execute_result"
    }
   ],
   "source": [
    "ind=np.array([i for i in range(len(demands))])\n",
    "activeIndexes=ind[ind!=-1]\n",
    "activeIndexes"
   ]
  },
  {
   "cell_type": "code",
   "execution_count": 146,
   "metadata": {},
   "outputs": [
    {
     "data": {
      "text/plain": [
       "array([[474, 465,   2],\n",
       "       [846, 421,   6],\n",
       "       [753, 895,   3],\n",
       "       [772, 287,   2],\n",
       "       [359, 310,  23],\n",
       "       [518, 719,  30],\n",
       "       [ 24, 495,   6],\n",
       "       [835, 980,   4],\n",
       "       [414, 256,   4],\n",
       "       [434, 273,   7]])"
      ]
     },
     "execution_count": 146,
     "metadata": {},
     "output_type": "execute_result"
    }
   ],
   "source": [
    "demands"
   ]
  },
  {
   "cell_type": "code",
   "execution_count": 49,
   "metadata": {},
   "outputs": [
    {
     "name": "stdout",
     "output_type": "stream",
     "text": [
      "[0.5 0.2 6.6 0.1 1.7 0.  0.2 4.3 2.9 4.3]\n"
     ]
    }
   ],
   "source": [
    "x=demands[:,2]/rates\n",
    "print (x)"
   ]
  },
  {
   "cell_type": "code",
   "execution_count": 21,
   "metadata": {},
   "outputs": [
    {
     "data": {
      "text/plain": [
       "array([[   0, 1024]])"
      ]
     },
     "execution_count": 21,
     "metadata": {},
     "output_type": "execute_result"
    }
   ],
   "source": [
    "links[links[:,0]==0]"
   ]
  },
  {
   "cell_type": "code",
   "execution_count": 179,
   "metadata": {},
   "outputs": [],
   "source": [
    "#demands: nx3 np.array[[sources,destinations,amount]]\n",
    "#routingLinks: list of paths, each path is a list of links encoded as [(s_1,d_2),(s_2,d_2),...,(s_n,d_n)]\n",
    "#C: np.array recording the capacity of each link\n",
    "def completionTimesECMP(demands,routingLinks,C):\n",
    "    #copy demands and routingLinks to local varibles\n",
    "    demands=np.array(demands)\n",
    "    routingLinks=list(routingLinks)\n",
    "    #time_to_completion keeps track of the time to completion of each demand \n",
    "    #as if the allocation stays always  the same\n",
    "    time_to_completion=np.zeros(len(demands))\n",
    "    #times keeps track of the actual time to completion of the demands as they progressively expire\n",
    "    times=np.zeros(len(demands))\n",
    "    #ind keeps track of active and expired flows\n",
    "    ind=np.arange(len(demands))\n",
    "    activeIndexes=ind[ind!=-1]\n",
    "    #initial rate allocation\n",
    "    rates=ft.max_min_allocation(C,routingLinks)\n",
    "    troughputs=[0]\n",
    "    while np.sum(ind)>-len(ind):#iterate until all flows are expired\n",
    "        #compute the time to completion of each demand, given current rate allocation, \n",
    "        #as if the rate stay always the same\n",
    "        time_to_completion[activeIndexes]=demands[activeIndexes,2]/rates[activeIndexes]\n",
    "        #get the minimum time to completion\n",
    "        minT=min(time_to_completion[activeIndexes])\n",
    "        #update the times of completion for all flows\n",
    "        times[activeIndexes]+=minT\n",
    "        #decrement the amount of data to be transmitted for each demand\n",
    "        demands[activeIndexes,2]=demands[activeIndexes,2]-rates[activeIndexes]*minT\n",
    "        troughputs.append(np.sum(rates[activeIndexes]))\n",
    "        #mark expired flows as inactive and update the activeIndexes array\n",
    "        ind[(time_to_completion==minT)&(ind!=-1)]=-1\n",
    "        activeIndexes=ind[ind!=-1]\n",
    "        #run max-min allocation on the remaining flows, and iterate\n",
    "        routingLinks_=[routingLinks[i] for i in activeIndexes]#max_min_allocation wants 'paths' as list\n",
    "        rates_=ft.max_min_allocation(C,routingLinks_)\n",
    "        rates[activeIndexes]=rates_\n",
    "    return times, troughputs"
   ]
  },
  {
   "cell_type": "code",
   "execution_count": null,
   "metadata": {},
   "outputs": [],
   "source": []
  },
  {
   "cell_type": "code",
   "execution_count": 212,
   "metadata": {},
   "outputs": [],
   "source": [
    "demands=ft.getDemands(5000,100,servers)\n"
   ]
  },
  {
   "cell_type": "code",
   "execution_count": 14,
   "metadata": {},
   "outputs": [],
   "source": [
    "t=completionTimes(demands,routingLinks,C)"
   ]
  },
  {
   "cell_type": "code",
   "execution_count": 17,
   "metadata": {},
   "outputs": [
    {
     "data": {
      "image/png": "[encoded data removed]",
      "text/plain": [
       "<matplotlib.figure.Figure at 0x7f03a210c160>"
      ]
     },
     "metadata": {},
     "output_type": "display_data"
    }
   ],
   "source": [
    "plt.hist(t)\n",
    "plt.show()"
   ]
  },
  {
   "cell_type": "code",
   "execution_count": 19,
   "metadata": {},
   "outputs": [
    {
     "data": {
      "text/plain": [
       "0"
      ]
     },
     "execution_count": 19,
     "metadata": {},
     "output_type": "execute_result"
    }
   ],
   "source": [
    "np.argmin([0,2,3,4,0])"
   ]
  },
  {
   "cell_type": "code",
   "execution_count": 13,
   "metadata": {},
   "outputs": [],
   "source": [
    "def routeBigFlow(shortest_paths,linksUsage):\n",
    "    pathInd=np.argmin([np.min([linksUsage[(s[i],s[i+1])] for i in range(len(s)-1)]) for s in shortest_paths])\n",
    "    return shortest_paths[pathInd]\n"
   ]
  },
  {
   "cell_type": "code",
   "execution_count": null,
   "metadata": {},
   "outputs": [],
   "source": []
  },
  {
   "cell_type": "code",
   "execution_count": 222,
   "metadata": {},
   "outputs": [],
   "source": [
    "demands=ft.getDemands(100,100,servers)"
   ]
  },
  {
   "cell_type": "code",
   "execution_count": 234,
   "metadata": {
    "scrolled": true
   },
   "outputs": [
    {
     "name": "stdout",
     "output_type": "stream",
     "text": [
      "0,1,2,3,4,5,6,7,8,"
     ]
    }
   ],
   "source": [
    "Threshold=90\n",
    "I=np.where(demands[:,-1]>Threshold)[0]\n",
    "J=np.where(demands[:,-1]<=Threshold)[0]\n",
    "smallDemands=demands[J]\n",
    "bigDemands=demands[I]\n",
    "baseRouting=ft.ECMPFromDict(demands,SP)\n",
    "baseRoutingLinks=[ft.nodesToLinksIndexes(r,links) for r in baseRouting]\n",
    "baseRates=ft.max_min_allocation(C,baseRoutingLinks)\n",
    "\n",
    "\n",
    "R=list(J)\n",
    "smartRouting=list(ft.ECMPFromDict(demands[J],SP))\n",
    "smartRoutingLinks=[ft.nodesToLinksIndexes(r,links) for r in smartRouting]\n",
    "smartRates=ft.max_min_allocation(C,smartRoutingLinks)\n",
    "linksUsage={(l[0],l[1]):0 for l in links}\n",
    "p=0\n",
    "for ii in I:\n",
    "    d=demands[ii]\n",
    "    linksUsage = dict.fromkeys(linksUsage, 0)\n",
    "    for i in range(len(smartRouting)):\n",
    "        path=smartRouting[i]\n",
    "        for j in range(len(path)-1):\n",
    "            #print(j)\n",
    "            #print(path[j])\n",
    "            #print(path[j+1])\n",
    "            #rint(smartRates[i])\n",
    "            #print(linksUsage[(path[j],path[j+1])])\n",
    "            linksUsage[(path[j],path[j+1])]+=smartRates[i]\n",
    "    if d[0]>d[1]:\n",
    "        Shortests=[x[::-1] for x in SP[(d[1],d[0])]]\n",
    "    else:\n",
    "        Shortests=SP[(d[0],d[1])]\n",
    "    routing=routeBigFlow(Shortests,linksUsage)\n",
    "    smartRouting.append(routing)\n",
    "    smartRoutingLinks.append(ft.nodesToLinksIndexes(routing,links))\n",
    "    \n",
    "    R.append(ii)\n",
    "    smartRates=ft.max_min_allocation(C,smartRoutingLinks)\n",
    "    print (p,end=',')\n",
    "    p+=1\n",
    "rates=[smartRates[j] for j in R]\n",
    "smartRouting=[smartRoutingLinks[j] for j in R]"
   ]
  },
  {
   "cell_type": "code",
   "execution_count": 245,
   "metadata": {},
   "outputs": [
    {
     "data": {
      "text/plain": [
       "array([ 4, 34, 40, 41, 54, 68, 70, 91, 94])"
      ]
     },
     "execution_count": 245,
     "metadata": {},
     "output_type": "execute_result"
    }
   ],
   "source": [
    "I"
   ]
  },
  {
   "cell_type": "code",
   "execution_count": 240,
   "metadata": {},
   "outputs": [
    {
     "name": "stdout",
     "output_type": "stream",
     "text": [
      "821.6666666666666\n",
      "783.3333333333334\n",
      "[910.         940.         920.         920.         990.\n",
      " 303.33333333 970.         495.         323.33333333]\n",
      "[910.         940.         920.         920.         990.\n",
      " 455.         646.66666667 495.         970.        ]\n"
     ]
    }
   ],
   "source": [
    "print (np.sum(baseRates))\n",
    "print (np.sum(rates))\n",
    "print (np.array(rates)[I]*bigDemands[:,2])\n",
    "print (baseRates[I]*bigDemands[:,2])"
   ]
  },
  {
   "cell_type": "code",
   "execution_count": 239,
   "metadata": {},
   "outputs": [
    {
     "ename": "ValueError",
     "evalue": "operands could not be broadcast together with shapes (9,) (9,3) ",
     "output_type": "error",
     "traceback": [
      "\u001b[0;31m---------------------------------------------------------------------------\u001b[0m",
      "\u001b[0;31mValueError\u001b[0m                                Traceback (most recent call last)",
      "\u001b[0;32m<ipython-input-239-5e2877cd8592>\u001b[0m in \u001b[0;36m<module>\u001b[0;34m()\u001b[0m\n\u001b[0;32m----> 1\u001b[0;31m \u001b[0mnp\u001b[0m\u001b[0;34m.\u001b[0m\u001b[0marray\u001b[0m\u001b[0;34m(\u001b[0m\u001b[0mrates\u001b[0m\u001b[0;34m)\u001b[0m\u001b[0;34m[\u001b[0m\u001b[0mI\u001b[0m\u001b[0;34m]\u001b[0m\u001b[0;34m*\u001b[0m\u001b[0mbigDemands\u001b[0m\u001b[0;34m\u001b[0m\u001b[0m\n\u001b[0m",
      "\u001b[0;31mValueError\u001b[0m: operands could not be broadcast together with shapes (9,) (9,3) "
     ]
    }
   ],
   "source": [
    "np.array(rates)[I]*bigDemands"
   ]
  },
  {
   "cell_type": "code",
   "execution_count": 241,
   "metadata": {},
   "outputs": [],
   "source": [
    "C0=completionTimesECMP(demands,baseRoutingLinks,C)"
   ]
  },
  {
   "cell_type": "code",
   "execution_count": 242,
   "metadata": {},
   "outputs": [],
   "source": [
    "C1=completionTimesECMP(demands,smartRouting,C)"
   ]
  },
  {
   "cell_type": "code",
   "execution_count": 243,
   "metadata": {},
   "outputs": [
    {
     "name": "stdout",
     "output_type": "stream",
     "text": [
      "5.970999999999999\n",
      "6.205999999999997\n"
     ]
    },
    {
     "data": {
      "image/png": "[encoded data removed]",
      "text/plain": [
       "<matplotlib.figure.Figure at 0x7f02865cb5f8>"
      ]
     },
     "metadata": {},
     "output_type": "display_data"
    },
    {
     "data": {
      "image/png": "[encoded data removed]",
      "text/plain": [
       "<matplotlib.figure.Figure at 0x7f02857b7f28>"
      ]
     },
     "metadata": {},
     "output_type": "display_data"
    }
   ],
   "source": [
    "print(np.average(C0[0]))\n",
    "print(np.average(C1[0]))\n",
    "plt.hist(C0[0],100)\n",
    "plt.ylim(0,40)\n",
    "plt.show()\n",
    "\n",
    "plt.hist(C1[0],100)\n",
    "plt.ylim(0,40)\n",
    "plt.show()"
   ]
  },
  {
   "cell_type": "code",
   "execution_count": 201,
   "metadata": {},
   "outputs": [
    {
     "data": {
      "text/plain": [
       "10.000000000000016"
      ]
     },
     "execution_count": 201,
     "metadata": {},
     "output_type": "execute_result"
    }
   ],
   "source": [
    "np.max(list(linksUsage.values()))"
   ]
  },
  {
   "cell_type": "code",
   "execution_count": 209,
   "metadata": {},
   "outputs": [
    {
     "data": {
      "image/png": "[encoded data removed]",
      "text/plain": [
       "<matplotlib.figure.Figure at 0x7f02866315f8>"
      ]
     },
     "metadata": {},
     "output_type": "display_data"
    }
   ],
   "source": [
    "plt.plot(np.sort(C0[0]))\n",
    "\n",
    "plt.plot(np.sort(C1[0]))\n",
    "plt.show()"
   ]
  },
  {
   "cell_type": "code",
   "execution_count": 210,
   "metadata": {},
   "outputs": [
    {
     "data": {
      "text/plain": [
       "1024"
      ]
     },
     "execution_count": 210,
     "metadata": {},
     "output_type": "execute_result"
    }
   ],
   "source": [
    "len(servers)"
   ]
  },
  {
   "cell_type": "code",
   "execution_count": 97,
   "metadata": {},
   "outputs": [],
   "source": [
    "nodes=list(set([(random.randint(1,100),random.randint(1,100)) for i in range (20) ]))"
   ]
  },
  {
   "cell_type": "code",
   "execution_count": 99,
   "metadata": {},
   "outputs": [],
   "source": [
    "C={(n[0],n[1]):10 for n in nodes}"
   ]
  },
  {
   "cell_type": "code",
   "execution_count": null,
   "metadata": {},
   "outputs": [],
   "source": [
    "links=[[(0,1),(1,2),(2,3),(5,6),(6,9),(9,20),(20,1000)]\n",
    "paths=[\n",
    "        [(0,1),(1,2),(2,3)],\n",
    "        [(5,6),(6,9),(9,20),(20,1000)]\n",
    "      ]\n",
    "C={l:10 for l in links}"
   ]
  }
 ],
 "metadata": {
  "kernelspec": {
   "display_name": "Python 3",
   "language": "python",
   "name": "python3"
  },
  "language_info": {
   "codemirror_mode": {
    "name": "ipython",
    "version": 3
   },
   "file_extension": ".py",
   "mimetype": "text/x-python",
   "name": "python",
   "nbconvert_exporter": "python",
   "pygments_lexer": "ipython3",
   "version": "3.6.4"
  }
 },
 "nbformat": 4,
 "nbformat_minor": 2
}
