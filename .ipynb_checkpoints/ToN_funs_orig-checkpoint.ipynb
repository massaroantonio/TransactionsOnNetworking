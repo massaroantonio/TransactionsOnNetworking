{
 "cells": [
  {
   "cell_type": "code",
   "execution_count": 1,
   "metadata": {
    "collapsed": false
   },
   "outputs": [
    {
     "data": {
      "text/plain": [
       "{'divide': 'ignore', 'invalid': 'ignore', 'over': 'ignore', 'under': 'ignore'}"
      ]
     },
     "execution_count": 1,
     "metadata": {},
     "output_type": "execute_result"
    }
   ],
   "source": [
    "import numpy as np\n",
    "import pandas as pd\n",
    "\n",
    "np.seterr(divide='ignore')"
   ]
  },
  {
   "cell_type": "code",
   "execution_count": 2,
   "metadata": {
    "collapsed": true
   },
   "outputs": [],
   "source": [
    "def residual_band(C,paths):\n",
    "    '''Computes the residual bandwidth for all input paths given the residual bandwidth'''\n",
    "    \n",
    "    res_band =[]\n",
    "    for ii in range(len(paths)):\n",
    "        vec = []\n",
    "        for tt in paths[ii]:\n",
    "            vec.append(C[tt])\n",
    "        res_band.append(np.min(vec))\n",
    "\n",
    "    return res_band\n",
    "\n",
    "def intersect(a, b):\n",
    "    return list(set(a) & set(b))\n",
    "\n",
    "\n",
    "def max_min_allocation(C,paths, debug_flag=0):\n",
    "    '''Computes the max-min allocation in a capacitated graph G for all input paths'''\n",
    "    \n",
    "    C = np.array(C, dtype=float)\n",
    "    paths = pd.Series(paths)\n",
    "    \n",
    "    # check input consistency\n",
    "    if (np.sum(C<0)>0):\n",
    "        raise ValueError('Capacity must be nonnegative.')\n",
    "    \n",
    "    # Initialization\n",
    "    max_min_rates = np.zeros(len(paths))\n",
    "\n",
    "    N = len(C) # n. edges\n",
    "    n_paths_per_edge = np.zeros(N, dtype=int) # n_paths_per_edge[i] = n. of paths passing through edge i\n",
    "    for ii,val in enumerate(paths):\n",
    "        for tt in val:\n",
    "            n_paths_per_edge[tt] += 1\n",
    "\n",
    "    paths_not_bottlenecked = [True for ii in range(len(paths))] #np.ones([1,len(paths)],dtype=bool)\n",
    "    \n",
    "    # Max-min algorithm\n",
    "    it = 0;\n",
    "    \n",
    "    if(debug_flag):\n",
    "        print(\"iteration \" + str(it))\n",
    "        print(\"max_min_rates = \" + str(max_min_rates))\n",
    "        print(\"paths_not_bottlenecked = \" + str(paths_not_bottlenecked))\n",
    "        print(\"available bandwidth C = \" + str(C))\n",
    "        print(\"n_paths_per_edge = \" + str(n_paths_per_edge) + \"\\n\")\n",
    "       \n",
    "    \n",
    "    while np.sum(paths_not_bottlenecked)>0:\n",
    "        \n",
    "        vec = np.array([float(\"Inf\") for ii in range(len(C))])\n",
    "        bool_vec = (n_paths_per_edge>0)\n",
    "        vec[bool_vec] = C[bool_vec] / n_paths_per_edge[bool_vec]\n",
    "        \n",
    "        bottleneck_flow = np.nanmin(vec) # maximum amount of flow increment for not bottlenecked flows\n",
    "        bottleneck_links = np.where(vec==bottleneck_flow)[0] # links with no capacity left\n",
    "        for ii in range(len(paths_not_bottlenecked)):\n",
    "                if paths_not_bottlenecked[ii]:\n",
    "                    max_min_rates[ii] += bottleneck_flow\n",
    "        \n",
    "        for ii, val in paths[paths_not_bottlenecked].iteritems():\n",
    "            C[val] -= bottleneck_flow\n",
    "            if intersect(val,bottleneck_links):\n",
    "                paths_not_bottlenecked[ii] = False\n",
    "                for tt in val:\n",
    "                    n_paths_per_edge[tt] -= 1\n",
    "        # import pdb; pdb.set_trace() # DEBUG\n",
    "        it += 1\n",
    "        \n",
    "        if(debug_flag):\n",
    "            print(\"iteration \" + str(it))\n",
    "            print(\"max_min_rates = \" + str(max_min_rates))\n",
    "            print(\"paths_not_bottlenecked = \" + str(paths_not_bottlenecked))\n",
    "            print(\"available bandwidth C = \" + str(C))\n",
    "            print(\"n_paths_per_edge = \" + str(n_paths_per_edge) + \"\\n\")\n",
    "    \n",
    "    \n",
    "    return max_min_rates"
   ]
  },
  {
   "cell_type": "code",
   "execution_count": 60,
   "metadata": {
    "collapsed": false
   },
   "outputs": [
    {
     "name": "stdout",
     "output_type": "stream",
     "text": [
      "iteration 0\n",
      "max_min_rates = [ 0.  0.  0.]\n",
      "paths_not_bottlenecked = [True, True, True]\n",
      "available bandwidth C = [  5.   6.   1.   3.  10.]\n",
      "n_paths_per_edge = [2 1 1 1 2]\n",
      "\n",
      "iteration 1\n",
      "max_min_rates = [ 1.  1.  1.]\n",
      "paths_not_bottlenecked = [True, False, True]\n",
      "available bandwidth C = [ 3.  5.  0.  2.  8.]\n",
      "n_paths_per_edge = [1 1 0 1 1]\n",
      "\n",
      "iteration 2\n",
      "max_min_rates = [ 3.  1.  3.]\n",
      "paths_not_bottlenecked = [False, False, True]\n",
      "available bandwidth C = [ 1.  3.  0.  0.  6.]\n",
      "n_paths_per_edge = [0 1 0 0 1]\n",
      "\n",
      "iteration 3\n",
      "max_min_rates = [ 3.  1.  6.]\n",
      "paths_not_bottlenecked = [False, False, False]\n",
      "available bandwidth C = [ 1.  0.  0.  0.  3.]\n",
      "n_paths_per_edge = [0 0 0 0 0]\n",
      "\n"
     ]
    },
    {
     "data": {
      "text/plain": [
       "array([ 3.,  1.,  6.])"
      ]
     },
     "execution_count": 60,
     "metadata": {},
     "output_type": "execute_result"
    }
   ],
   "source": [
    "C = [5,6,1,3,10] # C[i] is the capacity of link i\n",
    "paths = [[0,3],[0,2,4],[1,4]] # set of paths, meant as sequence of edges\n",
    "\n",
    "max_min_rates = max_min_allocation(C,paths,1)\n",
    "max_min_rates"
   ]
  },
  {
   "cell_type": "code",
   "execution_count": 3,
   "metadata": {
    "collapsed": false
   },
   "outputs": [
    {
     "name": "stdout",
     "output_type": "stream",
     "text": [
      "iteration 0\n",
      "max_min_rates = [ 0.  0.  0.]\n",
      "paths_not_bottlenecked = [True, True, True]\n",
      "available bandwidth C = [  5.   6.   1.   3.  10.]\n",
      "n_paths_per_edge = [2 1 1 1 2]\n",
      "\n",
      "iteration 1\n",
      "max_min_rates = [ 1.  1.  1.]\n",
      "paths_not_bottlenecked = [True, False, True]\n",
      "available bandwidth C = [ 3.  5.  0.  2.  8.]\n",
      "n_paths_per_edge = [1 1 0 1 1]\n",
      "\n",
      "iteration 2\n",
      "max_min_rates = [ 3.  1.  3.]\n",
      "paths_not_bottlenecked = [False, False, True]\n",
      "available bandwidth C = [ 1.  3.  0.  0.  6.]\n",
      "n_paths_per_edge = [0 1 0 0 1]\n",
      "\n",
      "iteration 3\n",
      "max_min_rates = [ 3.  1.  6.]\n",
      "paths_not_bottlenecked = [False, False, False]\n",
      "available bandwidth C = [ 1.  0.  0.  0.  3.]\n",
      "n_paths_per_edge = [0 0 0 0 0]\n",
      "\n"
     ]
    },
    {
     "data": {
      "text/plain": [
       "array([ 3.,  1.,  6.])"
      ]
     },
     "execution_count": 3,
     "metadata": {},
     "output_type": "execute_result"
    }
   ],
   "source": [
    "C = [5,6,1,3,10] # C[i] is the capacity of link i\n",
    "paths = [[0,3],[0,2,4],[1,4]] # set of paths, meant as sequence of edges\n",
    "\n",
    "max_min_rates = max_min_allocation(C,paths,1)\n",
    "max_min_rates"
   ]
  },
  {
   "cell_type": "code",
   "execution_count": null,
   "metadata": {
    "collapsed": true
   },
   "outputs": [],
   "source": []
  }
 ],
 "metadata": {
  "kernelspec": {
   "display_name": "Python 2",
   "language": "python",
   "name": "python2"
  },
  "language_info": {
   "codemirror_mode": {
    "name": "ipython",
    "version": 2
   },
   "file_extension": ".py",
   "mimetype": "text/x-python",
   "name": "python",
   "nbconvert_exporter": "python",
   "pygments_lexer": "ipython2",
   "version": "2.7.13"
  }
 },
 "nbformat": 4,
 "nbformat_minor": 2
}
