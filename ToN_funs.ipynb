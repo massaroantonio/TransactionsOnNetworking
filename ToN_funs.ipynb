{
 "cells": [
  {
   "cell_type": "code",
   "execution_count": 19,
   "metadata": {
    "collapsed": false
   },
   "outputs": [
    {
     "data": {
      "text/plain": [
       "{'divide': 'ignore', 'invalid': 'ignore', 'over': 'ignore', 'under': 'ignore'}"
      ]
     },
     "execution_count": 19,
     "metadata": {},
     "output_type": "execute_result"
    }
   ],
   "source": [
    "import numpy as np\n",
    "import pandas as pd\n",
    "\n",
    "np.seterr(divide='ignore')"
   ]
  },
  {
   "cell_type": "code",
   "execution_count": 49,
   "metadata": {
    "collapsed": true
   },
   "outputs": [],
   "source": [
    "def residual_band(C,paths):\n",
    "    '''Computes the residual bandwidth for all input paths given the residual bandwidth'''\n",
    "    \n",
    "    res_band =[]\n",
    "    for ii in range(len(paths)):\n",
    "        vec = []\n",
    "        for tt in paths[ii]:\n",
    "            vec.append(C[tt])\n",
    "        res_band.append(np.min(vec))\n",
    "\n",
    "    return res_band\n",
    "\n",
    "def intersect(a, b):\n",
    "    return list(set(a) & set(b))\n",
    "\n",
    "\n",
    "def max_min_allocation(C,paths, debug_flag=0):\n",
    "    '''Computes the max-min allocation in a capacitated graph G for all input paths'''\n",
    "    \n",
    "    C = np.array(C, dtype=float)\n",
    "    paths=np.array(paths)\n",
    "    # check input consistency\n",
    "    if (np.sum(C<0)>0):\n",
    "        raise ValueError('Capacity must be nonnegative.')\n",
    "    \n",
    "    # Initialization\n",
    "    max_min_rates = np.zeros(len(paths))\n",
    "\n",
    "    N = len(C) # n. edges\n",
    "    n_paths_per_edge = np.zeros(N, dtype=int) # n_paths_per_edge[i] = n. of paths passing through edge i\n",
    "    for val in paths:\n",
    "        for tt in val:\n",
    "            n_paths_per_edge[tt] += 1\n",
    "\n",
    "    paths_not_bottlenecked = [True for ii in range(len(paths))] #np.ones([1,len(paths)],dtype=bool)\n",
    "    \n",
    "    # Max-min algorithm\n",
    "    it = 0;\n",
    "    \n",
    "    if(debug_flag):\n",
    "        print(\"iteration \" + str(it))\n",
    "        print(\"max_min_rates = \" + str(max_min_rates))\n",
    "        print(\"paths_not_bottlenecked = \" + str(paths_not_bottlenecked))\n",
    "        print(\"available bandwidth C = \" + str(C))\n",
    "        print(\"n_paths_per_edge = \" + str(n_paths_per_edge) + \"\\n\")\n",
    "       \n",
    "    \n",
    "    while np.sum(paths_not_bottlenecked)>0:\n",
    "        \n",
    "        vec = np.array([float(\"Inf\") for ii in range(len(C))])\n",
    "        bool_vec = (n_paths_per_edge>0)\n",
    "        vec[bool_vec] = C[bool_vec] / n_paths_per_edge[bool_vec]\n",
    "        \n",
    "        bottleneck_flow = np.nanmin(vec) # maximum amount of flow increment for not bottlenecked flows\n",
    "        bottleneck_links = np.where(vec==bottleneck_flow)[0] # links with no capacity left\n",
    "        paths_not_bottlenecked_ind=np.where(paths_not_bottlenecked==True)\n",
    "        max_min_rates[paths_not_bottlenecked_ind] += bottleneck_flow\n",
    "        \n",
    "        ii=0\n",
    "        for val in paths[paths_not_bottlenecked_ind].iteritems():\n",
    "            C[val] -= bottleneck_flow\n",
    "            if intersect(val,bottleneck_links):\n",
    "                paths_not_bottlenecked[ii] = False\n",
    "                for tt in val:\n",
    "                    n_paths_per_edge[tt] -= 1\n",
    "            ii+=1\n",
    "        # import pdb; pdb.set_trace() # DEBUG\n",
    "        it += 1\n",
    "        \n",
    "        if(debug_flag):\n",
    "            print(\"iteration \" + str(it))\n",
    "            print(\"max_min_rates = \" + str(max_min_rates))\n",
    "            print(\"paths_not_bottlenecked = \" + str(paths_not_bottlenecked))\n",
    "            print(\"available bandwidth C = \" + str(C))\n",
    "            print(\"n_paths_per_edge = \" + str(n_paths_per_edge) + \"\\n\")\n",
    "    \n",
    "    \n",
    "    return max_min_rates"
   ]
  },
  {
   "cell_type": "code",
   "execution_count": 50,
   "metadata": {
    "collapsed": false
   },
   "outputs": [
    {
     "name": "stdout",
     "output_type": "stream",
     "text": [
      "iteration 0\n",
      "max_min_rates = [ 0.  0.  0.]\n",
      "paths_not_bottlenecked = [True, True, True]\n",
      "available bandwidth C = [  5.   6.   1.   3.  10.]\n",
      "n_paths_per_edge = [2 1 1 1 2]\n",
      "\n"
     ]
    },
    {
     "ename": "AttributeError",
     "evalue": "'numpy.ndarray' object has no attribute 'iteritems'",
     "output_type": "error",
     "traceback": [
      "\u001b[1;31m---------------------------------------------------------------------------\u001b[0m",
      "\u001b[1;31mAttributeError\u001b[0m                            Traceback (most recent call last)",
      "\u001b[1;32m<ipython-input-50-078a089a1db2>\u001b[0m in \u001b[0;36m<module>\u001b[1;34m()\u001b[0m\n\u001b[0;32m      2\u001b[0m \u001b[0mpaths\u001b[0m \u001b[1;33m=\u001b[0m \u001b[1;33m[\u001b[0m\u001b[1;33m[\u001b[0m\u001b[1;36m0\u001b[0m\u001b[1;33m,\u001b[0m\u001b[1;36m3\u001b[0m\u001b[1;33m]\u001b[0m\u001b[1;33m,\u001b[0m\u001b[1;33m[\u001b[0m\u001b[1;36m0\u001b[0m\u001b[1;33m,\u001b[0m\u001b[1;36m2\u001b[0m\u001b[1;33m,\u001b[0m\u001b[1;36m4\u001b[0m\u001b[1;33m]\u001b[0m\u001b[1;33m,\u001b[0m\u001b[1;33m[\u001b[0m\u001b[1;36m1\u001b[0m\u001b[1;33m,\u001b[0m\u001b[1;36m4\u001b[0m\u001b[1;33m]\u001b[0m\u001b[1;33m]\u001b[0m \u001b[1;31m# set of paths, meant as sequence of edges\u001b[0m\u001b[1;33m\u001b[0m\u001b[0m\n\u001b[0;32m      3\u001b[0m \u001b[1;33m\u001b[0m\u001b[0m\n\u001b[1;32m----> 4\u001b[1;33m \u001b[0mmax_min_rates\u001b[0m \u001b[1;33m=\u001b[0m \u001b[0mmax_min_allocation\u001b[0m\u001b[1;33m(\u001b[0m\u001b[0mC\u001b[0m\u001b[1;33m,\u001b[0m\u001b[0mpaths\u001b[0m\u001b[1;33m,\u001b[0m\u001b[1;36m1\u001b[0m\u001b[1;33m)\u001b[0m\u001b[1;33m\u001b[0m\u001b[0m\n\u001b[0m\u001b[0;32m      5\u001b[0m \u001b[0mmax_min_rates\u001b[0m\u001b[1;33m\u001b[0m\u001b[0m\n",
      "\u001b[1;32m<ipython-input-49-98d41a7759b7>\u001b[0m in \u001b[0;36mmax_min_allocation\u001b[1;34m(C, paths, debug_flag)\u001b[0m\n\u001b[0;32m     58\u001b[0m \u001b[1;33m\u001b[0m\u001b[0m\n\u001b[0;32m     59\u001b[0m         \u001b[0mii\u001b[0m\u001b[1;33m=\u001b[0m\u001b[1;36m0\u001b[0m\u001b[1;33m\u001b[0m\u001b[0m\n\u001b[1;32m---> 60\u001b[1;33m         \u001b[1;32mfor\u001b[0m \u001b[0mval\u001b[0m \u001b[1;32min\u001b[0m \u001b[0mpaths\u001b[0m\u001b[1;33m[\u001b[0m\u001b[0mpaths_not_bottlenecked_ind\u001b[0m\u001b[1;33m]\u001b[0m\u001b[1;33m.\u001b[0m\u001b[0miteritems\u001b[0m\u001b[1;33m(\u001b[0m\u001b[1;33m)\u001b[0m\u001b[1;33m:\u001b[0m\u001b[1;33m\u001b[0m\u001b[0m\n\u001b[0m\u001b[0;32m     61\u001b[0m             \u001b[0mC\u001b[0m\u001b[1;33m[\u001b[0m\u001b[0mval\u001b[0m\u001b[1;33m]\u001b[0m \u001b[1;33m-=\u001b[0m \u001b[0mbottleneck_flow\u001b[0m\u001b[1;33m\u001b[0m\u001b[0m\n\u001b[0;32m     62\u001b[0m             \u001b[1;32mif\u001b[0m \u001b[0mintersect\u001b[0m\u001b[1;33m(\u001b[0m\u001b[0mval\u001b[0m\u001b[1;33m,\u001b[0m\u001b[0mbottleneck_links\u001b[0m\u001b[1;33m)\u001b[0m\u001b[1;33m:\u001b[0m\u001b[1;33m\u001b[0m\u001b[0m\n",
      "\u001b[1;31mAttributeError\u001b[0m: 'numpy.ndarray' object has no attribute 'iteritems'"
     ]
    }
   ],
   "source": [
    "C = [5,6,1,3,10] # C[i] is the capacity of link i\n",
    "paths = [[0,3],[0,2,4],[1,4]] # set of paths, meant as sequence of edges\n",
    "\n",
    "max_min_rates = max_min_allocation(C,paths,1)\n",
    "max_min_rates"
   ]
  },
  {
   "cell_type": "code",
   "execution_count": 10,
   "metadata": {
    "collapsed": false
   },
   "outputs": [
    {
     "data": {
      "text/plain": [
       "array([        inf,         inf,  0.66666667,  1.16666667])"
      ]
     },
     "execution_count": 10,
     "metadata": {},
     "output_type": "execute_result"
    }
   ],
   "source": [
    "t1 = np.array([0,3,6,7], dtype=float)\n",
    "t2 = np.array([0,0,9,6], dtype=float)\n",
    "v = np.array([float(\"Inf\") for ii in range(len(t1))])\n",
    "bo = (t1!=0) & (t2!=0)\n",
    "v[bo] = t1[bo] / t2[bo]\n",
    "v"
   ]
  },
  {
   "cell_type": "code",
   "execution_count": 21,
   "metadata": {
    "collapsed": false
   },
   "outputs": [
    {
     "ename": "SyntaxError",
     "evalue": "invalid syntax (<ipython-input-21-80d2bcd44e12>, line 1)",
     "output_type": "error",
     "traceback": [
      "\u001b[1;36m  File \u001b[1;32m\"<ipython-input-21-80d2bcd44e12>\"\u001b[1;36m, line \u001b[1;32m1\u001b[0m\n\u001b[1;33m    for aa bb in enumerate(pd.Series(paths)):\u001b[0m\n\u001b[1;37m            ^\u001b[0m\n\u001b[1;31mSyntaxError\u001b[0m\u001b[1;31m:\u001b[0m invalid syntax\n"
     ]
    }
   ],
   "source": [
    "for aa bb in enumerate(pd.Series(paths)):\n",
    "    print aa, bb"
   ]
  },
  {
   "cell_type": "code",
   "execution_count": 33,
   "metadata": {
    "collapsed": false
   },
   "outputs": [
    {
     "name": "stdout",
     "output_type": "stream",
     "text": [
      "[ 0.  0.  0.]\n",
      "[ 0.  0.  0.]\n"
     ]
    }
   ],
   "source": [
    "max_min_rates = np.zeros(3)\n",
    "print max_min_rates\n",
    "print max_min_rates"
   ]
  },
  {
   "cell_type": "code",
   "execution_count": 35,
   "metadata": {
    "collapsed": false
   },
   "outputs": [
    {
     "name": "stdout",
     "output_type": "stream",
     "text": [
      "[ 1.  0.  1.]\n"
     ]
    }
   ],
   "source": [
    "print max_min_rates"
   ]
  },
  {
   "cell_type": "code",
   "execution_count": 34,
   "metadata": {
    "collapsed": false
   },
   "outputs": [],
   "source": [
    "max_min_rates[[0,2]]+=1"
   ]
  },
  {
   "cell_type": "code",
   "execution_count": 32,
   "metadata": {
    "collapsed": false
   },
   "outputs": [
    {
     "data": {
      "text/plain": [
       "array([ 1.,  0.])"
      ]
     },
     "execution_count": 32,
     "metadata": {},
     "output_type": "execute_result"
    }
   ],
   "source": [
    "max_min_rates[[0,2]]"
   ]
  },
  {
   "cell_type": "code",
   "execution_count": 40,
   "metadata": {
    "collapsed": false
   },
   "outputs": [
    {
     "data": {
      "text/plain": [
       "array([ 1.,  1.])"
      ]
     },
     "execution_count": 40,
     "metadata": {},
     "output_type": "execute_result"
    }
   ],
   "source": [
    "max_min_rates[np.where(np.array([True,False,True])==True)]"
   ]
  },
  {
   "cell_type": "code",
   "execution_count": null,
   "metadata": {
    "collapsed": true
   },
   "outputs": [],
   "source": []
  }
 ],
 "metadata": {
  "kernelspec": {
   "display_name": "Python 2",
   "language": "python",
   "name": "python2"
  },
  "language_info": {
   "codemirror_mode": {
    "name": "ipython",
    "version": 2
   },
   "file_extension": ".py",
   "mimetype": "text/x-python",
   "name": "python",
   "nbconvert_exporter": "python",
   "pygments_lexer": "ipython2",
   "version": "2.7.13"
  }
 },
 "nbformat": 4,
 "nbformat_minor": 2
}
