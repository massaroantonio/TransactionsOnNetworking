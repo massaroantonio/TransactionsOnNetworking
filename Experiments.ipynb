{
 "cells": [
  {
   "cell_type": "code",
   "execution_count": 2,
   "metadata": {},
   "outputs": [
    {
     "name": "stderr",
     "output_type": "stream",
     "text": [
      "/anaconda3/lib/python3.6/site-packages/matplotlib/font_manager.py:281: UserWarning: Matplotlib is building the font cache using fc-list. This may take a moment.\n",
      "  'Matplotlib is building the font cache using fc-list. '\n"
     ]
    }
   ],
   "source": [
    "import os\n",
    "import matplotlib\n",
    "import numpy as np\n",
    "import matplotlib.pyplot as plt\n",
    "import networkx as nx\n",
    "import random\n",
    "import pandas as pd\n",
    "%matplotlib inline  "
   ]
  },
  {
   "cell_type": "code",
   "execution_count": 29,
   "metadata": {},
   "outputs": [
    {
     "data": {
      "text/plain": [
       "8.0"
      ]
     },
     "execution_count": 29,
     "metadata": {},
     "output_type": "execute_result"
    }
   ],
   "source": [
    "16/2"
   ]
  },
  {
   "cell_type": "code",
   "execution_count": 30,
   "metadata": {},
   "outputs": [],
   "source": [
    "#given the number of pods K, it returns the list of nodes indexed as [server,edge,aggregation,core] \n",
    "#and the list of links as [[indexSourceNode,indexTargetNode]]\n",
    "def getFatTree(K):\n",
    "    N_core = int((K/2)**2)\n",
    "    N_aggr = int((K**2)/2)\n",
    "    N_edge = N_aggr\n",
    "    N_serv = int(N_edge * K/2)\n",
    "    N_tot = N_core + N_aggr + N_edge + N_serv\n",
    "    \n",
    "    serv_nodes = np.arange(N_serv)\n",
    "    edge_nodes = N_serv + np.arange(N_edge)\n",
    "    aggr_nodes = N_serv + N_edge + np.arange(N_aggr)\n",
    "    core_nodes = N_serv + N_edge + N_aggr + np.arange(N_core)\n",
    "\n",
    "    Adj =np.matrix(np.zeros((int(N_tot),int(N_tot))))\n",
    "    n_core_connected = np.zeros(int(N_aggr))\n",
    "    \n",
    "    #aggregation to edge\n",
    "    for k in range(K):#% k-th pod\n",
    "        a=N_serv+N_edge+k*K/2#starting index aggregation nodes\n",
    "        b=N_serv+k*K/2#starting index edge nodes\n",
    "        Adj[a:a+K/2,b:b+K/2] = np.ones((K/2,K/2))\n",
    "        \n",
    "    #edge to servers\n",
    "    for e in range(N_edge):\n",
    "        a=N_serv+e#starting index edge nodes\n",
    "        b=e*K/2#starting index connected servers\n",
    "        Adj[a,b:b+K/2] = 1\n",
    "        \n",
    "    #core to aggregation    \n",
    "    for c in range(N_core):\n",
    "        a= N_serv + N_edge + N_aggr+c#index of core node\n",
    "        for k in range(K): # pod number\n",
    "            b=N_serv + N_edge+k*K/2#starting index of pod\n",
    "            ind_aggr = np.where(n_core_connected[k*K/2:(k+1)*(K/2)]<K/2)[0][0]#index of the aggregation node inside the pod\n",
    "            Adj[a,b+ind_aggr] = 1;\n",
    "            n_core_connected[k*K/2+ind_aggr] = n_core_connected[k*K/2+ind_aggr]+1;#update the number of connection per aggregation node\n",
    "\n",
    "    Adj = Adj + Adj.T\n",
    "    Adj[Adj>1] = 1\n",
    "    L = np.where(Adj==1)\n",
    "    links=np.array([[L[1][i],L[0][i]] for i in range(len(L[0]))]) \n",
    "    return links,serv_nodes,edge_nodes,aggr_nodes,core_nodes"
   ]
  },
  {
   "cell_type": "code",
   "execution_count": 31,
   "metadata": {},
   "outputs": [],
   "source": [
    "def residual_band(C,paths):\n",
    "    '''Computes the residual bandwidth for all input paths given the residual bandwidth'''\n",
    "    \n",
    "    res_band =[]\n",
    "    for ii in range(len(paths)):\n",
    "        vec = []\n",
    "        for tt in paths[ii]:\n",
    "            vec.append(C[tt])\n",
    "        res_band.append(np.min(vec))\n",
    "\n",
    "    return res_band\n",
    "\n",
    "def intersect(a, b):\n",
    "    return list(set(a) & set(b))\n",
    "\n",
    "\n",
    "def max_min_allocation(C,paths, debug_flag=0):\n",
    "    '''Computes the max-min allocation in a capacitated graph G for all input paths'''\n",
    "    \n",
    "    C = np.array(C, dtype=float)\n",
    "    paths = pd.Series(paths)\n",
    "    \n",
    "    # check input consistency\n",
    "    if (np.sum(C<0)>0):\n",
    "        raise ValueError('Capacity must be nonnegative.')\n",
    "    \n",
    "    # Initialization\n",
    "    max_min_rates = np.zeros(len(paths))\n",
    "\n",
    "    N = len(C) # n. edges\n",
    "    n_paths_per_edge = np.zeros(N, dtype=int) # n_paths_per_edge[i] = n. of paths passing through edge i\n",
    "    for ii,val in enumerate(paths):\n",
    "        for tt in val:\n",
    "            n_paths_per_edge[tt] += 1\n",
    "\n",
    "    paths_not_bottlenecked = [True for ii in range(len(paths))] #np.ones([1,len(paths)],dtype=bool)\n",
    "    \n",
    "    # Max-min algorithm\n",
    "    it = 0;\n",
    "    \n",
    "    if(debug_flag):\n",
    "        print(\"iteration \" + str(it))\n",
    "        print(\"max_min_rates = \" + str(max_min_rates))\n",
    "        print(\"paths_not_bottlenecked = \" + str(paths_not_bottlenecked))\n",
    "        print(\"available bandwidth C = \" + str(C))\n",
    "        print(\"n_paths_per_edge = \" + str(n_paths_per_edge) + \"\\n\")\n",
    "       \n",
    "    \n",
    "    while np.sum(paths_not_bottlenecked)>0:\n",
    "        \n",
    "        vec = np.array([float(\"Inf\") for ii in range(len(C))])\n",
    "        bool_vec = (n_paths_per_edge>0)\n",
    "        vec[bool_vec] = C[bool_vec] / n_paths_per_edge[bool_vec]\n",
    "        \n",
    "        bottleneck_flow = np.nanmin(vec) # maximum amount of flow increment for not bottlenecked flows\n",
    "        bottleneck_links = np.where(vec==bottleneck_flow)[0] # links with no capacity left\n",
    "        for ii in range(len(paths_not_bottlenecked)):\n",
    "                if paths_not_bottlenecked[ii]:\n",
    "                    max_min_rates[ii] += bottleneck_flow\n",
    "        \n",
    "        for ii, val in paths[paths_not_bottlenecked].iteritems():\n",
    "            C[val] -= bottleneck_flow\n",
    "            if intersect(val,bottleneck_links):\n",
    "                paths_not_bottlenecked[ii] = False\n",
    "                for tt in val:\n",
    "                    n_paths_per_edge[tt] -= 1\n",
    "        # import pdb; pdb.set_trace() # DEBUG\n",
    "        it += 1\n",
    "        \n",
    "        if(debug_flag):\n",
    "            print(\"iteration \" + str(it))\n",
    "            print(\"max_min_rates = \" + str(max_min_rates))\n",
    "            print(\"paths_not_bottlenecked = \" + str(paths_not_bottlenecked))\n",
    "            print(\"available bandwidth C = \" + str(C))\n",
    "            print(\"n_paths_per_edge = \" + str(n_paths_per_edge) + \"\\n\")\n",
    "    \n",
    "    \n",
    "    return max_min_rates"
   ]
  },
  {
   "cell_type": "code",
   "execution_count": 32,
   "metadata": {},
   "outputs": [],
   "source": [
    "#given diGraph G. source node index and target node index, returns the ECMP path as sequnce of node Ids\n",
    "#This will be optimized by precomputing the shortest paths for each source-destination couple\n",
    "def ECMP(G,source,target):\n",
    "    paths=[p for p in nx.all_shortest_paths(G,source,target)]\n",
    "    i=random.randint(0,len(paths)-1)\n",
    "    return paths[i]"
   ]
  },
  {
   "cell_type": "code",
   "execution_count": 33,
   "metadata": {},
   "outputs": [],
   "source": [
    "#Updates the currentRate parameter on each link affected by a maxMin routing\n",
    "#G is a diGraph, \n",
    "#C is a list of capacity of each link, ordered as given by list(G.edges())\n",
    "#each path in Paths is expressed as sequence of edge indexes\n",
    "\n",
    "def updateMaxMin(G,C,pathsEdges):\n",
    "    edges=list(G.edges())\n",
    "    \n",
    "    distinctEdgeIndexes=[]\n",
    "    for path in pathsEdges:\n",
    "        distinctEdgeIndexes+=list(path)\n",
    "    distinctEdgeIndexes=list(set(distinctEdgeIndexes))    \n",
    "    #calculate the maxMin allocation\n",
    "    maxMinAlloc=max_min_allocation(C,pathsEdges)\n",
    "    \n",
    "    #update the 'CurrentRate' attribute on affected nodes\n",
    "    for e in distinctEdgeIndexes:\n",
    "        G[edges[e][0]][edges[e][1]]['CurrentRate']=0.\n",
    "    for i in range(len(pathsEdges)):\n",
    "        path=pathsEdges[i]\n",
    "        for p in path:\n",
    "            G[edges[p][0]][edges[p][1]]['CurrentRate']+=maxMinAlloc[i]\n",
    "\n",
    "    return G"
   ]
  },
  {
   "cell_type": "code",
   "execution_count": 34,
   "metadata": {},
   "outputs": [],
   "source": [
    "#given a path expressed as nodes, it returns a path expressed as \n",
    "#sequence of INDEXES of links traversed, the list of links being linksList.\n",
    "def nodesToLinksIndexes(pathNodes,linksList):\n",
    "    path=[]\n",
    "    f=0\n",
    "    for i in range(len(pathNodes)-1):\n",
    "        a=pathNodes[i]\n",
    "        b=pathNodes[i+1]\n",
    "        for k in range(len(linksList)):\n",
    "            if linksList[k,0]==a and linksList[k,1]==b:\n",
    "                f=1\n",
    "                break\n",
    "        if f:\n",
    "            path.append(k)\n",
    "        else:\n",
    "            raise ValueError('invalid path: link from node'+str(a)+' to node '+str(b)+' does not exist')            \n",
    "    return np.array(path)\n",
    "    "
   ]
  },
  {
   "cell_type": "code",
   "execution_count": 35,
   "metadata": {},
   "outputs": [
    {
     "data": {
      "text/plain": [
       "int"
      ]
     },
     "execution_count": 35,
     "metadata": {},
     "output_type": "execute_result"
    }
   ],
   "source": [
    "type(K)"
   ]
  },
  {
   "cell_type": "code",
   "execution_count": 36,
   "metadata": {},
   "outputs": [
    {
     "ename": "TypeError",
     "evalue": "'float' object cannot be interpreted as an integer",
     "output_type": "error",
     "traceback": [
      "\u001b[0;31m---------------------------------------------------------------------------\u001b[0m",
      "\u001b[0;31mTypeError\u001b[0m                                 Traceback (most recent call last)",
      "\u001b[0;32m<ipython-input-36-617e4d0727b9>\u001b[0m in \u001b[0;36m<module>\u001b[0;34m()\u001b[0m\n\u001b[1;32m      2\u001b[0m \u001b[0mK\u001b[0m\u001b[0;34m=\u001b[0m\u001b[0;36m16\u001b[0m \u001b[0;31m#number of pods\u001b[0m\u001b[0;34m\u001b[0m\u001b[0m\n\u001b[1;32m      3\u001b[0m \u001b[0mG\u001b[0m\u001b[0;34m=\u001b[0m\u001b[0mnx\u001b[0m\u001b[0;34m.\u001b[0m\u001b[0mDiGraph\u001b[0m\u001b[0;34m(\u001b[0m\u001b[0;34m)\u001b[0m\u001b[0;31m#initialize the graph\u001b[0m\u001b[0;34m\u001b[0m\u001b[0m\n\u001b[0;32m----> 4\u001b[0;31m \u001b[0mfatTree\u001b[0m\u001b[0;34m=\u001b[0m\u001b[0mgetFatTree\u001b[0m\u001b[0;34m(\u001b[0m\u001b[0mK\u001b[0m\u001b[0;34m)\u001b[0m\u001b[0;31m#calculate fat tree topology\u001b[0m\u001b[0;34m\u001b[0m\u001b[0m\n\u001b[0m\u001b[1;32m      5\u001b[0m \u001b[0mlinks\u001b[0m\u001b[0;34m=\u001b[0m\u001b[0mfatTree\u001b[0m\u001b[0;34m[\u001b[0m\u001b[0;36m0\u001b[0m\u001b[0;34m]\u001b[0m\u001b[0;34m\u001b[0m\u001b[0m\n\u001b[1;32m      6\u001b[0m \u001b[0;31m#input structure into the graph\u001b[0m\u001b[0;34m\u001b[0m\u001b[0;34m\u001b[0m\u001b[0m\n",
      "\u001b[0;32m<ipython-input-30-2588967b12f4>\u001b[0m in \u001b[0;36mgetFatTree\u001b[0;34m(K)\u001b[0m\n\u001b[1;32m     20\u001b[0m         \u001b[0ma\u001b[0m\u001b[0;34m=\u001b[0m\u001b[0mN_serv\u001b[0m\u001b[0;34m+\u001b[0m\u001b[0mN_edge\u001b[0m\u001b[0;34m+\u001b[0m\u001b[0mk\u001b[0m\u001b[0;34m*\u001b[0m\u001b[0mK\u001b[0m\u001b[0;34m/\u001b[0m\u001b[0;36m2\u001b[0m\u001b[0;31m#starting index aggregation nodes\u001b[0m\u001b[0;34m\u001b[0m\u001b[0m\n\u001b[1;32m     21\u001b[0m         \u001b[0mb\u001b[0m\u001b[0;34m=\u001b[0m\u001b[0mN_serv\u001b[0m\u001b[0;34m+\u001b[0m\u001b[0mk\u001b[0m\u001b[0;34m*\u001b[0m\u001b[0mK\u001b[0m\u001b[0;34m/\u001b[0m\u001b[0;36m2\u001b[0m\u001b[0;31m#starting index edge nodes\u001b[0m\u001b[0;34m\u001b[0m\u001b[0m\n\u001b[0;32m---> 22\u001b[0;31m         \u001b[0mAdj\u001b[0m\u001b[0;34m[\u001b[0m\u001b[0ma\u001b[0m\u001b[0;34m:\u001b[0m\u001b[0ma\u001b[0m\u001b[0;34m+\u001b[0m\u001b[0mK\u001b[0m\u001b[0;34m/\u001b[0m\u001b[0;36m2\u001b[0m\u001b[0;34m,\u001b[0m\u001b[0mb\u001b[0m\u001b[0;34m:\u001b[0m\u001b[0mb\u001b[0m\u001b[0;34m+\u001b[0m\u001b[0mK\u001b[0m\u001b[0;34m/\u001b[0m\u001b[0;36m2\u001b[0m\u001b[0;34m]\u001b[0m \u001b[0;34m=\u001b[0m \u001b[0mnp\u001b[0m\u001b[0;34m.\u001b[0m\u001b[0mones\u001b[0m\u001b[0;34m(\u001b[0m\u001b[0;34m(\u001b[0m\u001b[0mK\u001b[0m\u001b[0;34m/\u001b[0m\u001b[0;36m2\u001b[0m\u001b[0;34m,\u001b[0m\u001b[0mK\u001b[0m\u001b[0;34m/\u001b[0m\u001b[0;36m2\u001b[0m\u001b[0;34m)\u001b[0m\u001b[0;34m)\u001b[0m\u001b[0;34m\u001b[0m\u001b[0m\n\u001b[0m\u001b[1;32m     23\u001b[0m \u001b[0;34m\u001b[0m\u001b[0m\n\u001b[1;32m     24\u001b[0m     \u001b[0;31m#edge to servers\u001b[0m\u001b[0;34m\u001b[0m\u001b[0;34m\u001b[0m\u001b[0m\n",
      "\u001b[0;32m/anaconda3/lib/python3.6/site-packages/numpy/core/numeric.py\u001b[0m in \u001b[0;36mones\u001b[0;34m(shape, dtype, order)\u001b[0m\n\u001b[1;32m    186\u001b[0m \u001b[0;34m\u001b[0m\u001b[0m\n\u001b[1;32m    187\u001b[0m     \"\"\"\n\u001b[0;32m--> 188\u001b[0;31m     \u001b[0ma\u001b[0m \u001b[0;34m=\u001b[0m \u001b[0mempty\u001b[0m\u001b[0;34m(\u001b[0m\u001b[0mshape\u001b[0m\u001b[0;34m,\u001b[0m \u001b[0mdtype\u001b[0m\u001b[0;34m,\u001b[0m \u001b[0morder\u001b[0m\u001b[0;34m)\u001b[0m\u001b[0;34m\u001b[0m\u001b[0m\n\u001b[0m\u001b[1;32m    189\u001b[0m     \u001b[0mmultiarray\u001b[0m\u001b[0;34m.\u001b[0m\u001b[0mcopyto\u001b[0m\u001b[0;34m(\u001b[0m\u001b[0ma\u001b[0m\u001b[0;34m,\u001b[0m \u001b[0;36m1\u001b[0m\u001b[0;34m,\u001b[0m \u001b[0mcasting\u001b[0m\u001b[0;34m=\u001b[0m\u001b[0;34m'unsafe'\u001b[0m\u001b[0;34m)\u001b[0m\u001b[0;34m\u001b[0m\u001b[0m\n\u001b[1;32m    190\u001b[0m     \u001b[0;32mreturn\u001b[0m \u001b[0ma\u001b[0m\u001b[0;34m\u001b[0m\u001b[0m\n",
      "\u001b[0;31mTypeError\u001b[0m: 'float' object cannot be interpreted as an integer"
     ]
    }
   ],
   "source": [
    "#build the graph\n",
    "K=16 #number of pods\n",
    "G=nx.DiGraph()#initialize the graph\n",
    "fatTree=getFatTree(K)#calculate fat tree topology \n",
    "links=fatTree[0] \n",
    "#input structure into the graph\n",
    "for l in links:\n",
    "    G.add_edge(l[0],l[1])\n",
    "    G[l[0]][l[1]]['CurrentRate']=0.\n",
    "    G[l[0]][l[1]]['Capacity']=10.\n",
    "    \n",
    "#store edges, nodes and capacities in np.arrays for easier use in the following\n",
    "edges=np.array(G.edges())\n",
    "nodes=np.array(G.nodes())\n",
    "C=10*np.ones(len(edges))"
   ]
  },
  {
   "cell_type": "code",
   "execution_count": 390,
   "metadata": {},
   "outputs": [],
   "source": [
    "#paths as generated by ECMP (sequence of nodes)\n",
    "pathNodes=[ECMP(G,nodes[i],nodes[1023-i]) for i in range(1000)]\n",
    "#path transalted into links indexes\n",
    "pathEdges=[nodesToLinksIndexes(p,edges) for p in pathNodes]"
   ]
  },
  {
   "cell_type": "code",
   "execution_count": 417,
   "metadata": {},
   "outputs": [],
   "source": [
    "#update edges usage\n",
    "G=updateMaxMin(G,C,pathEdges)"
   ]
  },
  {
   "cell_type": "code",
   "execution_count": 271,
   "metadata": {
    "scrolled": true
   },
   "outputs": [
    {
     "name": "stdout",
     "output_type": "stream",
     "text": [
      "0 0\n"
     ]
    }
   ],
   "source": [
    "#check it is the same as the one produced in matlab\n",
    "K=16\n",
    "f=open('../matlab/fat_tree-connections.txt','r')\n",
    "ll=[]\n",
    "for l in f:\n",
    "    ll.append([int(x) for x in l[:-1].split(',')[:2]])\n",
    "ll=np.array(ll)\n",
    "LL=getFatTree(K)\n",
    "print np.max(LL[0]-ll),np.min(LL[0]-ll) "
   ]
  }
 ],
 "metadata": {
  "kernelspec": {
   "display_name": "Python 3",
   "language": "python",
   "name": "python3"
  },
  "language_info": {
   "codemirror_mode": {
    "name": "ipython",
    "version": 3
   },
   "file_extension": ".py",
   "mimetype": "text/x-python",
   "name": "python",
   "nbconvert_exporter": "python",
   "pygments_lexer": "ipython3",
   "version": "3.6.4"
  }
 },
 "nbformat": 4,
 "nbformat_minor": 1
}
